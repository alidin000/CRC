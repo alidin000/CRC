{
 "cells": [
  {
   "cell_type": "markdown",
   "metadata": {
    "pycharm": {
     "name": "#%% md\n"
    }
   },
   "source": [
    "# Cyclic Redundancy Check"
   ]
  },
  {
   "cell_type": "markdown",
   "metadata": {
    "pycharm": {
     "name": "#%% md\n"
    }
   },
   "source": [
    "## Introduction"
   ]
  },
  {
   "cell_type": "markdown",
   "metadata": {
    "pycharm": {
     "name": "#%% md\n"
    }
   },
   "source": [
    "CRC stands for Cyclic Redundancy Check. It is a method for checking errors in digital data. It attaches a small, calculated \"check value\" to the data, which is used to confirm the integrity of the data when it is retrieved later. If the check value does not match the original data, it indicates that the data has been corrupted, and the error can be corrected. "
   ]
  },
  {
   "cell_type": "markdown",
   "metadata": {
    "pycharm": {
     "name": "#%% md\n"
    }
   },
   "source": [
    "## Problem Statement"
   ]
  },
  {
   "cell_type": "markdown",
   "metadata": {
    "pycharm": {
     "name": "#%% md\n"
    }
   },
   "source": [
    "Given the data calculate its CRC value, append it to the data and check it for the errors. Implement the bit-oriented and table-driven algorithms of CRC calculation."
   ]
  },
  {
   "cell_type": "markdown",
   "metadata": {
    "pycharm": {
     "name": "#%% md\n"
    }
   },
   "source": [
    "## Solution Description"
   ]
  },
  {
   "cell_type": "markdown",
   "metadata": {
    "pycharm": {
     "name": "#%% md\n"
    }
   },
   "source": [
    "Auxiliary functions and fields"
   ]
  },
  {
   "cell_type": "code",
   "execution_count": 16,
   "metadata": {
    "pycharm": {
     "name": "#%%\n"
    }
   },
   "outputs": [],
   "source": [
    "CRC_POLY = 0x04C11DB7\n",
    "INIT_XOR = 0xFFFFFFFF \n",
    "FINAL_XOR = 0xFFFFFFFF "
   ]
  },
  {
   "cell_type": "markdown",
   "metadata": {
    "pycharm": {
     "name": "#%% md\n"
    }
   },
   "source": [
    "Bit-oriented algorithm of calculation of the CRC"
   ]
  },
  {
   "cell_type": "code",
   "execution_count": 17,
   "metadata": {
    "pycharm": {
     "name": "#%%\n"
    }
   },
   "outputs": [],
   "source": [
    "def crc32_bo(data):\n",
    "    crc = INIT_XOR\n",
    "    for byte in data:\n",
    "        crc ^^= byte\n",
    "        for _ in range(8):\n",
    "            if crc & 1:\n",
    "                crc = (crc >> 1) ^^ CRC_POLY\n",
    "            else:\n",
    "                crc = (crc >> 1)\n",
    "    return crc ^^ FINAL_XOR"
   ]
  },
  {
   "cell_type": "markdown",
   "metadata": {
    "pycharm": {
     "name": "#%% md\n"
    }
   },
   "source": [
    "Table-driven algorithm of calculation of the CRC"
   ]
  },
  {
   "cell_type": "code",
   "execution_count": 18,
   "metadata": {
    "pycharm": {
     "name": "#%%\n"
    }
   },
   "outputs": [],
   "source": [
    "def crc32_td(data):\n",
    "    table = [0] * 256\n",
    "    #part 1\n",
    "    for i in range(256):\n",
    "        crc = i\n",
    "        for j in range(8):\n",
    "            if crc & 1:\n",
    "                crc = (crc >> 1) ^^ CRC_POLY\n",
    "            else:\n",
    "                crc = crc >> 1\n",
    "        table[i] = crc\n",
    "        \n",
    "    #part 2\n",
    "    crc = INIT_XOR\n",
    "    for byte in data:\n",
    "        crc = (crc >> 8) ^^ table[(crc & 0xFF) ^^ byte]\n",
    "\n",
    "    return crc ^^ FINAL_XOR"
   ]
  },
  {
   "cell_type": "markdown",
   "metadata": {
    "pycharm": {
     "name": "#%% md\n"
    }
   },
   "source": [
    "Adding the crc key to the end of the given data\n"
   ]
  },
  {
   "cell_type": "code",
   "execution_count": 24,
   "metadata": {
    "pycharm": {
     "name": "#%%\n"
    }
   },
   "outputs": [],
   "source": [
    "# Bit-oriented algorithm of calculation of the CRC\n",
    "def append_crc32_bo(data):\n",
    "    data=int(data, 2)\n",
    "    crc = crc32_bo(data.to_bytes(4, byteorder='big'))\n",
    "    data = data.to_bytes(4, byteorder='big') + int(crc).to_bytes(4, byteorder='little')\n",
    "    return data\n",
    "\n",
    "# Table-driven algorithm of calculation of the CRC\n",
    "def append_crc32_td(data):\n",
    "    data=int(data, 2)\n",
    "    crc = crc32_td(data.to_bytes(4, byteorder='big'))\n",
    "    data = data.to_bytes(4, byteorder='big') + int(crc).to_bytes(4, byteorder='little')\n",
    "    return data\n",
    "\n",
    "def check_crc32(data):\n",
    "    # Recalculate the CRC32 value of the data with the appended CRC32\n",
    "    calculated_crc = crc32_td(data[:-4])\n",
    "    appended_crc = int.from_bytes(data[-4:], byteorder='little')\n",
    "    #appended_crc = append_crc32_td(data)\n",
    "    if calculated_crc != appended_crc:\n",
    "        return None\n",
    "    else:\n",
    "        return data\n",
    "    \n",
    "data_with_crc = append_crc32_bo(data_bytes)\n",
    "# print(bin(int.from_bytes(data_with_crc, byteorder='big')))\n",
    "# print(bin(int.from_bytes(check_crc32(data_with_crc), byteorder='big')))\n",
    "\n",
    "data_with_crc = append_crc32_td(data_bytes)\n",
    "# print(bin(int.from_bytes(data_with_crc, byteorder='big')))\n",
    "# print(bin(int.from_bytes(check_crc32(data_with_crc), byteorder='big')))\n"
   ]
  },
  {
   "cell_type": "markdown",
   "metadata": {
    "pycharm": {
     "name": "#%% md\n"
    }
   },
   "source": [
    "## Testing"
   ]
  },
  {
   "cell_type": "markdown",
   "metadata": {
    "pycharm": {
     "name": "#%% md\n"
    }
   },
   "source": [
    "Testing"
   ]
  },
  {
   "cell_type": "code",
   "execution_count": 35,
   "metadata": {},
   "outputs": [],
   "source": [
    "#test case1\n",
    "data=0b101010101\n",
    "data_bin = bin(data)[2:] \n",
    "data_bytes = data_bin.encode()\n",
    "\n",
    "#test case2\n",
    "data2=0b11001101\n",
    "data_bin2 = bin(data2)[2:] \n",
    "data_bytes2 = data_bin2.encode()"
   ]
  },
  {
   "cell_type": "markdown",
   "metadata": {},
   "source": [
    "Test1\n"
   ]
  },
  {
   "cell_type": "code",
   "execution_count": 36,
   "metadata": {},
   "outputs": [
    {
     "name": "stdout",
     "output_type": "stream",
     "text": [
      "0b10101010100101101100010111011001111111000\n",
      "0b10101010100101101100010111011001111111000\n",
      "True\n",
      "0b10101010100101101100010111011001111111000\n",
      "0b10101010100101101100010111011001111111000\n",
      "True\n"
     ]
    }
   ],
   "source": [
    "data_with_crc = append_crc32_bo(data_bytes)\n",
    "print(bin(int.from_bytes(data_with_crc, byteorder='big')))\n",
    "print(bin(int.from_bytes(check_crc32(data_with_crc), byteorder='big')))\n",
    "print(bin(int.from_bytes(check_crc32(data_with_crc), byteorder='big')) == bin(int.from_bytes(data_with_crc, byteorder='big')))\n",
    "\n",
    "data_with_crc = append_crc32_td(data_bytes)\n",
    "print(bin(int.from_bytes(data_with_crc, byteorder='big')))\n",
    "print(bin(int.from_bytes(check_crc32(data_with_crc), byteorder='big')))\n",
    "print(bin(int.from_bytes(check_crc32(data_with_crc), byteorder='big')) == bin(int.from_bytes(data_with_crc, byteorder='big')))"
   ]
  },
  {
   "cell_type": "markdown",
   "metadata": {},
   "source": [
    "<<Outputs>>\n",
    "\n",
    "0b10101010100101101100010111011001111111000\n",
    "0b10101010100101101100010111011001111111000\n",
    "True\n",
    "\n",
    "\n",
    "0b10101010100101101100010111011001111111000\n",
    "0b10101010100101101100010111011001111111000\n",
    "True"
   ]
  },
  {
   "cell_type": "markdown",
   "metadata": {},
   "source": [
    "Test2"
   ]
  },
  {
   "cell_type": "code",
   "execution_count": 37,
   "metadata": {},
   "outputs": [
    {
     "name": "stdout",
     "output_type": "stream",
     "text": [
      "0b1100110111111010011100000100110111111101\n",
      "0b1100110111111010011100000100110111111101\n",
      "True\n",
      "0b1100110111111010011100000100110111111101\n",
      "0b1100110111111010011100000100110111111101\n",
      "True\n"
     ]
    }
   ],
   "source": [
    "data_with_crc2 = append_crc32_bo(data_bytes2)\n",
    "print(bin(int.from_bytes(data_with_crc2, byteorder='big')))\n",
    "print(bin(int.from_bytes(check_crc32(data_with_crc2), byteorder='big')))\n",
    "print(bin(int.from_bytes(check_crc32(data_with_crc2), byteorder='big')) == bin(int.from_bytes(data_with_crc2, byteorder='big')))\n",
    "\n",
    "data_with_crc2 = append_crc32_td(data_bytes2)\n",
    "print(bin(int.from_bytes(data_with_crc2, byteorder='big')))\n",
    "print(bin(int.from_bytes(check_crc32(data_with_crc2), byteorder='big')))\n",
    "print(bin(int.from_bytes(check_crc32(data_with_crc2), byteorder='big')) == bin(int.from_bytes(data_with_crc2, byteorder='big')))"
   ]
  },
  {
   "cell_type": "markdown",
   "metadata": {},
   "source": [
    "<<Outputs>>\n",
    "\n",
    "0b10101010100101101100010111011001111111000\n",
    "0b10101010100101101100010111011001111111000\n",
    "True\n",
    "\n",
    "\n",
    "0b10101010100101101100010111011001111111000\n",
    "0b10101010100101101100010111011001111111000\n",
    "True"
   ]
  }
 ],
 "metadata": {
  "kernelspec": {
   "display_name": "SageMath 9.0",
   "language": "sage",
   "name": "sagemath"
  },
  "language_info": {
   "codemirror_mode": {
    "name": "ipython",
    "version": 3
   },
   "file_extension": ".py",
   "mimetype": "text/x-python",
   "name": "python",
   "nbconvert_exporter": "python",
   "pygments_lexer": "ipython3",
   "version": "3.8.10"
  },
  "vscode": {
   "interpreter": {
    "hash": "3b7e9cb8e453d6cda0fe8c8dd13f891a1f09162f0e7c66ffeae7751a7aecf00d"
   }
  }
 },
 "nbformat": 4,
 "nbformat_minor": 2
}
